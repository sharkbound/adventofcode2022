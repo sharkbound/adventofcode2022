{
 "cells": [
  {
   "cell_type": "code",
   "execution_count": null,
   "metadata": {
    "collapsed": true
   },
   "outputs": [],
   "source": [
    "import numpy as np\n",
    "\n",
    "from pathlib import Path\n",
    "\n",
    "SAMPLE = Path('sample_0.txt')\n",
    "INPUT = Path('../../inputs/day_8.txt')\n",
    "\n",
    "\n",
    "def read(path):\n",
    "    return np.array([list(x) for x in path.read_text().splitlines()], dtype=np.int16)"
   ]
  },
  {
   "cell_type": "code",
   "execution_count": 68,
   "outputs": [
    {
     "data": {
      "text/plain": "[3, 7, 3, 0, 3]"
     },
     "execution_count": 68,
     "metadata": {},
     "output_type": "execute_result"
    }
   ],
   "source": [
    "from icecream import ic\n",
    "\n",
    "\n",
    "def process(array: np.ndarray):\n",
    "    t = 0\n",
    "    for i, v in np.ndenumerate(array):\n",
    "        if i[0] == 0 or i[1] == 0 or i[0] == a.shape[0] - 1 or i[1] == a.shape[1] - 1:\n",
    "            t += 1\n",
    "            continue\n",
    "        # row check\n",
    "        row = array[i[0], :]\n",
    "        column = array[:, i[1]]\n",
    "        left, right, up, down = row[:i[1]], row[i[1] + 1:], column[:i[0]], column[i[0] + 1:]\n",
    "        if (left < v).all() or (right < v).all() or (up < v).all() or (down < v).all():\n",
    "            t += 1\n",
    "\n",
    "    return t\n",
    "\n",
    "\n",
    "process(read(SAMPLE))"
   ],
   "metadata": {
    "collapsed": false
   }
  }
 ],
 "metadata": {
  "kernelspec": {
   "display_name": "Python 3",
   "language": "python",
   "name": "python3"
  },
  "language_info": {
   "codemirror_mode": {
    "name": "ipython",
    "version": 2
   },
   "file_extension": ".py",
   "mimetype": "text/x-python",
   "name": "python",
   "nbconvert_exporter": "python",
   "pygments_lexer": "ipython2",
   "version": "2.7.6"
  }
 },
 "nbformat": 4,
 "nbformat_minor": 0
}
