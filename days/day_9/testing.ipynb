{
 "cells": [
  {
   "cell_type": "code",
   "execution_count": 12,
   "metadata": {
    "collapsed": true
   },
   "outputs": [],
   "source": [
    "from dataclasses import dataclass\n",
    "from typing import Optional\n",
    "\n",
    "import numpy as np\n",
    "from icecream import ic"
   ]
  },
  {
   "cell_type": "code",
   "execution_count": 14,
   "outputs": [
    {
     "name": "stderr",
     "output_type": "stream",
     "text": [
      "ic| node.pos: array([0, 0]), node is head: True, node is tail: False\n",
      "ic| node.pos: array([0, 0]), node is head: False, node is tail: False\n",
      "ic| node.pos: array([0, 0]), node is head: False, node is tail: True\n"
     ]
    }
   ],
   "source": [
    "@dataclass\n",
    "class Node:\n",
    "    pos: np.ndarray\n",
    "    parent: Optional[Node] = None\n",
    "    child: Optional[Node] = None\n",
    "\n",
    "    @classmethod\n",
    "    def create_chain(cls, length):\n",
    "        default_pos = np.array([0, 0])\n",
    "        head = Node(default_pos)\n",
    "        tail = head\n",
    "        for i in range(length - 1):\n",
    "            child = Node(default_pos.copy())\n",
    "            tail.child = child\n",
    "            child.parent = tail\n",
    "            tail = child\n",
    "        return head, tail\n",
    "\n",
    "    def __repr__(self):\n",
    "        return f'<Node {self.pos}\\n\\t {self.child}>'\n",
    "\n",
    "head, tail = Node.create_chain(3)\n",
    "node = head\n",
    "while node:\n",
    "    ic(node.pos, node is head, node is tail)\n",
    "    node = node.child\n"
   ],
   "metadata": {
    "collapsed": false
   }
  },
  {
   "cell_type": "code",
   "execution_count": 15,
   "outputs": [
    {
     "data": {
      "text/plain": "(array([6]), [array([6])])"
     },
     "execution_count": 15,
     "metadata": {},
     "output_type": "execute_result"
    }
   ],
   "source": [
    "l = [np.array([1])]\n",
    "a = l[0]\n",
    "a += 5\n",
    "a, l"
   ],
   "metadata": {
    "collapsed": false
   }
  }
 ],
 "metadata": {
  "kernelspec": {
   "display_name": "Python 3",
   "language": "python",
   "name": "python3"
  },
  "language_info": {
   "codemirror_mode": {
    "name": "ipython",
    "version": 2
   },
   "file_extension": ".py",
   "mimetype": "text/x-python",
   "name": "python",
   "nbconvert_exporter": "python",
   "pygments_lexer": "ipython2",
   "version": "2.7.6"
  }
 },
 "nbformat": 4,
 "nbformat_minor": 0
}
